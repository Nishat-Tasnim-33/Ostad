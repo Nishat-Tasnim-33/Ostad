{
 "cells": [
  {
   "cell_type": "markdown",
   "id": "3d9c9a02",
   "metadata": {},
   "source": [
    "# Ostad-OOP Practice"
   ]
  },
  {
   "cell_type": "code",
   "execution_count": 2,
   "id": "bbb10886",
   "metadata": {},
   "outputs": [],
   "source": [
    "#defining a class\n",
    "\n",
    "class Person:\n",
    "    name=\"\"\n",
    "    age = 0\n",
    "    address = \"\"\n",
    "    \n",
    "    #defining constructor: if we don't use cons. then we'll able to see \n",
    "    def __init__(self, person_name, person_age, person_address):\n",
    "        \n",
    "        self.name = person_name\n",
    "        self.age = person_age\n",
    "        self.address = person_address\n",
    "    def show_name(self):\n",
    "        print(self.name)\n",
    "    def show_age(self):\n",
    "         print(self.age)\n",
    "    def show_address(self):\n",
    "         print(self.address)"
   ]
  },
  {
   "cell_type": "code",
   "execution_count": 8,
   "id": "b85ecec2",
   "metadata": {},
   "outputs": [],
   "source": [
    "person1 = Person(\"Nishat\",22,\"dhaka\")\n"
   ]
  },
  {
   "cell_type": "code",
   "execution_count": 9,
   "id": "f32666eb",
   "metadata": {},
   "outputs": [
    {
     "name": "stdout",
     "output_type": "stream",
     "text": [
      "Nishat\n",
      "22\n",
      "dhaka\n"
     ]
    }
   ],
   "source": [
    "person1.show_name()\n",
    "person1.show_age()\n",
    "person1.show_address()"
   ]
  },
  {
   "cell_type": "code",
   "execution_count": 2,
   "id": "f7cfa542",
   "metadata": {},
   "outputs": [],
   "source": [
    "class Summation:\n",
    "    total=0\n",
    "    \n",
    "    def __init__(self,*num):\n",
    "        self.total += sum(num)\n",
    "    def display(self):\n",
    "        print(self.total)"
   ]
  },
  {
   "cell_type": "code",
   "execution_count": 3,
   "id": "7194871f",
   "metadata": {},
   "outputs": [],
   "source": [
    "obj1=Summation(1,2,3,4,5,6,7,8,9,10)"
   ]
  },
  {
   "cell_type": "code",
   "execution_count": 4,
   "id": "d6caff57",
   "metadata": {},
   "outputs": [
    {
     "name": "stdout",
     "output_type": "stream",
     "text": [
      "55\n"
     ]
    }
   ],
   "source": [
    "obj1.display()"
   ]
  },
  {
   "cell_type": "code",
   "execution_count": null,
   "id": "b5d09453",
   "metadata": {},
   "outputs": [],
   "source": []
  }
 ],
 "metadata": {
  "kernelspec": {
   "display_name": "Python 3 (ipykernel)",
   "language": "python",
   "name": "python3"
  },
  "language_info": {
   "codemirror_mode": {
    "name": "ipython",
    "version": 3
   },
   "file_extension": ".py",
   "mimetype": "text/x-python",
   "name": "python",
   "nbconvert_exporter": "python",
   "pygments_lexer": "ipython3",
   "version": "3.9.13"
  }
 },
 "nbformat": 4,
 "nbformat_minor": 5
}
