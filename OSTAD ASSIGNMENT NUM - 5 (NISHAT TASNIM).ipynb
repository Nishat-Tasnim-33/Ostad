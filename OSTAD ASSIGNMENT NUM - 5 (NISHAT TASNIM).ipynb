{
 "cells": [
  {
   "cell_type": "markdown",
   "id": "3c5918e1",
   "metadata": {},
   "source": [
    "# OSTAD ASSIGNMENT NUM - 5 (NISHAT TASNIM)"
   ]
  },
  {
   "cell_type": "code",
   "execution_count": 2,
   "id": "9823faa6",
   "metadata": {},
   "outputs": [],
   "source": [
    "import numpy as np"
   ]
  },
  {
   "cell_type": "code",
   "execution_count": 3,
   "id": "c9280234",
   "metadata": {},
   "outputs": [],
   "source": [
    "'''Here we are going to create a  Sigmoid function which will return as a single vlue\n",
    "\n",
    "The function is ------> σ(x)=1/1+e^(-x)'''\n",
    "\n",
    "def sigmoid_function(x):\n",
    "    \n",
    "    expo = np.exp(-x)\n",
    "    sum_expo = (1+expo)\n",
    "    sigmoid = 1/(sum_expo)\n",
    "    return sigmoid"
   ]
  },
  {
   "cell_type": "code",
   "execution_count": 9,
   "id": "216b67a1",
   "metadata": {},
   "outputs": [
    {
     "name": "stdout",
     "output_type": "stream",
     "text": [
      "Please enter the value of x for Sigmoid Function :1\n",
      "The Siogmoid function returned ---> 0.7310585786300049\n"
     ]
    }
   ],
   "source": [
    "hold = int(input(\"Please enter the value of x for Sigmoid Function :\"))\n",
    "\n",
    "print(\"The Siogmoid function returned --->\",sigmoid_function(hold))"
   ]
  },
  {
   "cell_type": "code",
   "execution_count": null,
   "id": "8122bdcb",
   "metadata": {},
   "outputs": [],
   "source": []
  }
 ],
 "metadata": {
  "kernelspec": {
   "display_name": "Python 3 (ipykernel)",
   "language": "python",
   "name": "python3"
  },
  "language_info": {
   "codemirror_mode": {
    "name": "ipython",
    "version": 3
   },
   "file_extension": ".py",
   "mimetype": "text/x-python",
   "name": "python",
   "nbconvert_exporter": "python",
   "pygments_lexer": "ipython3",
   "version": "3.9.13"
  }
 },
 "nbformat": 4,
 "nbformat_minor": 5
}
