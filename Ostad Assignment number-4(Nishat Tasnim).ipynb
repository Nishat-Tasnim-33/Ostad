{
 "cells": [
  {
   "cell_type": "markdown",
   "id": "a46ea3ce",
   "metadata": {},
   "source": [
    "# Ostad Assignment number- 4 (Nishat Tasnim)"
   ]
  },
  {
   "cell_type": "code",
   "execution_count": 9,
   "id": "ea3740b0",
   "metadata": {},
   "outputs": [],
   "source": [
    "from abc import ABCMeta, abstractmethod\n",
    "class Base(metaclass=ABCMeta):\n",
    "    \n",
    "    def __init__(self,keep1,keep2):\n",
    "        self.hold1=keep1\n",
    "        self.hold2=keep2\n",
    "        \n",
    "    @abstractmethod\n",
    "    def get_position(self):\n",
    "        \n",
    "        pass\n",
    "    @abstractmethod\n",
    "    def get_salary(self):\n",
    "        pass\n",
    "class Employee(Base):\n",
    "    \n",
    "    def get_position(self):\n",
    "        position=self.hold1\n",
    "        print(\"The position is :\",position)\n",
    "    def get_salary(self):\n",
    "        salary=self.hold2\n",
    "        print(\"The salary is:\",salary)\n",
    "        "
   ]
  },
  {
   "cell_type": "code",
   "execution_count": 14,
   "id": "183dd5fc",
   "metadata": {},
   "outputs": [
    {
     "name": "stdout",
     "output_type": "stream",
     "text": [
      "The position is : General Secretary\n",
      "The salary is: 200000\n"
     ]
    }
   ],
   "source": [
    "obj1 = Employee('General Secretary',200000)\n",
    "\n",
    "obj1.get_position()\n",
    "obj1.get_salary()"
   ]
  },
  {
   "cell_type": "code",
   "execution_count": null,
   "id": "8168dc7f",
   "metadata": {},
   "outputs": [],
   "source": []
  }
 ],
 "metadata": {
  "kernelspec": {
   "display_name": "Python 3 (ipykernel)",
   "language": "python",
   "name": "python3"
  },
  "language_info": {
   "codemirror_mode": {
    "name": "ipython",
    "version": 3
   },
   "file_extension": ".py",
   "mimetype": "text/x-python",
   "name": "python",
   "nbconvert_exporter": "python",
   "pygments_lexer": "ipython3",
   "version": "3.9.13"
  }
 },
 "nbformat": 4,
 "nbformat_minor": 5
}
