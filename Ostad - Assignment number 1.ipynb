{
 "cells": [
  {
   "cell_type": "markdown",
   "id": "12d08736",
   "metadata": {},
   "source": [
    "# Assignment number 1 - NISHAT TASNIM"
   ]
  },
  {
   "cell_type": "code",
   "execution_count": 26,
   "id": "ebbf5369",
   "metadata": {},
   "outputs": [
    {
     "name": "stdout",
     "output_type": "stream",
     "text": [
      "Please enter the range of pattern you want to print:21\n",
      "\n",
      "\n",
      "1 \n",
      "\n",
      "2 3 \n",
      "\n",
      "4 5 6 \n",
      "\n",
      "7 8 9 10 \n",
      "\n",
      "11 12 13 14 15 \n",
      "\n",
      "16 17 18 19 20 21 "
     ]
    }
   ],
   "source": [
    "'''Question-Print a pattern like below\n",
    "1\n",
    "2 3\n",
    "4 5 6\n",
    "7 8 9 10'''\n",
    "\n",
    "ran = int(input(\"Please enter the range of pattern you want to print:\"))\n",
    "summ = 1\n",
    "cnt = 0\n",
    "for i in range(ran):\n",
    "    for j in range (i):\n",
    "        print(summ,end=\" \")\n",
    "        summ+=1\n",
    "        if(summ==ran+1):\n",
    "            cnt+=1\n",
    "            break\n",
    "    if(cnt==1):\n",
    "        break\n",
    "    print('\\n')"
   ]
  },
  {
   "cell_type": "code",
   "execution_count": 33,
   "id": "04d0d368",
   "metadata": {},
   "outputs": [
    {
     "name": "stdout",
     "output_type": "stream",
     "text": [
      "Please enter the size of list:5\n",
      "Input the value for list:1\n",
      "Input the value for list:2\n",
      "Input the value for list:3\n",
      "Input the value for list:4\n",
      "Input the value for list:5\n",
      "\n",
      "\n",
      "Please enter the target:5\n",
      "The 1st value is 1 and index number is 0 && the 2nd value is 4 and index number is 3 which is 1+4=5 and index number is 0 & 3 .\n"
     ]
    }
   ],
   "source": [
    "'''Given a list of integer number & target, return indecies of two numbers such that they add upto target'''\n",
    "\n",
    "siz = int(input(\"Please enter the size of list:\"))\n",
    "lst = []\n",
    "cnt=0\n",
    "for i in range(siz):\n",
    "    hold = int(input(\"Input the value for list:\"))\n",
    "    lst.append(hold)\n",
    "print('\\n')\n",
    "target = int(input(\"Please enter the target:\"))\n",
    "for i in range(siz-1):\n",
    "    for j in range (i+1,siz):\n",
    "        if((lst[i]+lst[j])==target):\n",
    "            print(\"The 1st value is %d and index number is %d && the 2nd value is %d and index number is %d which is %d+%d=%d and index number is %d & %d .\"%(lst[i],i,lst[j],j,lst[i],lst[j],target,i,j) )\n",
    "            cnt=1\n",
    "            break\n",
    "    if(cnt==1):\n",
    "        break"
   ]
  },
  {
   "cell_type": "code",
   "execution_count": null,
   "id": "18051fef",
   "metadata": {},
   "outputs": [],
   "source": []
  }
 ],
 "metadata": {
  "kernelspec": {
   "display_name": "Python 3 (ipykernel)",
   "language": "python",
   "name": "python3"
  },
  "language_info": {
   "codemirror_mode": {
    "name": "ipython",
    "version": 3
   },
   "file_extension": ".py",
   "mimetype": "text/x-python",
   "name": "python",
   "nbconvert_exporter": "python",
   "pygments_lexer": "ipython3",
   "version": "3.9.13"
  }
 },
 "nbformat": 4,
 "nbformat_minor": 5
}
