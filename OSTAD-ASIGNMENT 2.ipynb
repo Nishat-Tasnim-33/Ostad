{
 "cells": [
  {
   "cell_type": "markdown",
   "id": "3d3c90d4",
   "metadata": {},
   "source": [
    "# OSTAD-ASSIGNMENT 2"
   ]
  },
  {
   "cell_type": "code",
   "execution_count": 16,
   "id": "7aa8230d",
   "metadata": {},
   "outputs": [
    {
     "name": "stdout",
     "output_type": "stream",
     "text": [
      "Please enter two value a & b :10 20\n",
      "200\n"
     ]
    }
   ],
   "source": [
    "'''''''''\n",
    "1. Write a function that will return the multiplication of two numbers (with docstring)\n",
    "    \n",
    "    Here multlipication is a function which will take 2 values as perameter \n",
    "    && the function will be return multlipication of 2 value\n",
    "    \n",
    "    a & b are two int variable which will take take two input from the usuer.....\n",
    "    Here a can be int/float\n",
    "    Here b can be int/float\n",
    "    \n",
    "    just we have to change the type of map & the both type have to be same.\n",
    "'''''''''\n",
    "\n",
    "def multlipication(num1,num2):\n",
    "    mul=(num1*num2)\n",
    "    print(mul)\n",
    "    \n",
    "a,b = map(int,input(\"Please enter two value a & b :\").split())\n",
    "multlipication(a,b)\n"
   ]
  },
  {
   "cell_type": "code",
   "execution_count": 22,
   "id": "3e80174a",
   "metadata": {},
   "outputs": [
    {
     "name": "stdout",
     "output_type": "stream",
     "text": [
      "Please enter the number:1111\n",
      "True\n"
     ]
    }
   ],
   "source": [
    "'''\n",
    "     2. Write a function that will check if a number is a palindrome or not (with docstring)\n",
    "     \n",
    "     Here palindrome is a function which will return a palindrome value \n",
    "     palindrome is a number which will be the same if we reserve the number!!!\n",
    "             num is int\n",
    "             current_val will return the reminder of the number \n",
    "             return_val is the value after we reverse the value\n",
    "             num will be changed untill it become xero in the loop\n",
    "             \n",
    "    Here 'a' is input which will take user input\n",
    "        hold will carry the retun value of function\n",
    "        then in print function we use bool function which will return is the value is palindrome or not.\n",
    "            \n",
    "'''\n",
    "\n",
    "def palindrome(num):\n",
    "    return_val=0\n",
    "    while(num!=0):\n",
    "        current_val = (num%10) \n",
    "        return_val = (10*return_val+current_val)\n",
    "        num=num//10\n",
    "    return return_val\n",
    "\n",
    "a = int(input(\"Please enter the number:\")) \n",
    "hold = palindrome(a)\n",
    "#print(hold)\n",
    "print(bool(a==hold))"
   ]
  },
  {
   "cell_type": "code",
   "execution_count": null,
   "id": "509f2afe",
   "metadata": {},
   "outputs": [],
   "source": []
  }
 ],
 "metadata": {
  "kernelspec": {
   "display_name": "Python 3 (ipykernel)",
   "language": "python",
   "name": "python3"
  },
  "language_info": {
   "codemirror_mode": {
    "name": "ipython",
    "version": 3
   },
   "file_extension": ".py",
   "mimetype": "text/x-python",
   "name": "python",
   "nbconvert_exporter": "python",
   "pygments_lexer": "ipython3",
   "version": "3.9.13"
  }
 },
 "nbformat": 4,
 "nbformat_minor": 5
}
