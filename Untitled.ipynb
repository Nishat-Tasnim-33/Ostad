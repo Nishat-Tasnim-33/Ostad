{
 "cells": [
  {
   "cell_type": "code",
   "execution_count": null,
   "id": "ca5f90cc",
   "metadata": {},
   "outputs": [],
   "source": [
    "\n"
   ]
  },
  {
   "cell_type": "code",
   "execution_count": 13,
   "id": "b1fa99c4",
   "metadata": {},
   "outputs": [],
   "source": [
    "class Task:\n",
    "    name = \" \"\n",
    "#define constructor\n",
    "    def __init__(self,person_name):\n",
    "        self.name = person_name\n",
    "#define method\n",
    "    def display(self):\n",
    "        print(self.name)\n"
   ]
  },
  {
   "cell_type": "code",
   "execution_count": 15,
   "id": "a577c12e",
   "metadata": {},
   "outputs": [
    {
     "name": "stdout",
     "output_type": "stream",
     "text": [
      "Nishat Tasnim\n"
     ]
    }
   ],
   "source": [
    "person =Task(\"Nishat Tasnim\")\n",
    "person.display()"
   ]
  },
  {
   "cell_type": "code",
   "execution_count": null,
   "id": "f46c9e8a",
   "metadata": {},
   "outputs": [],
   "source": []
  }
 ],
 "metadata": {
  "kernelspec": {
   "display_name": "Python 3 (ipykernel)",
   "language": "python",
   "name": "python3"
  },
  "language_info": {
   "codemirror_mode": {
    "name": "ipython",
    "version": 3
   },
   "file_extension": ".py",
   "mimetype": "text/x-python",
   "name": "python",
   "nbconvert_exporter": "python",
   "pygments_lexer": "ipython3",
   "version": "3.9.13"
  }
 },
 "nbformat": 4,
 "nbformat_minor": 5
}
