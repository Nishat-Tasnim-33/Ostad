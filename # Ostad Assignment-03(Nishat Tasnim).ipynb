{
 "cells": [
  {
   "cell_type": "markdown",
   "id": "18ec45a4",
   "metadata": {},
   "source": [
    "# Ostad Assignment-03 (Nishat Tasnim)"
   ]
  },
  {
   "cell_type": "code",
   "execution_count": 2,
   "id": "33f68e25",
   "metadata": {},
   "outputs": [],
   "source": [
    "#   Question:- Please write a Python class to write all of integer\n",
    "\n",
    "\n",
    "class Summation:\n",
    "    total=0\n",
    "    \n",
    "    def __init__(self,*num):\n",
    "        self.total += sum(num)\n",
    "    def display(self):\n",
    "        print(self.total)"
   ]
  },
  {
   "cell_type": "code",
   "execution_count": 3,
   "id": "96c0c760",
   "metadata": {},
   "outputs": [],
   "source": [
    "obj1=Summation(1,2,3,4,5,6,7,8,9,10)"
   ]
  },
  {
   "cell_type": "code",
   "execution_count": 4,
   "id": "2ab04c86",
   "metadata": {},
   "outputs": [
    {
     "name": "stdout",
     "output_type": "stream",
     "text": [
      "55\n"
     ]
    }
   ],
   "source": [
    "obj1.display()"
   ]
  },
  {
   "cell_type": "code",
   "execution_count": 5,
   "id": "6cb24035",
   "metadata": {},
   "outputs": [
    {
     "name": "stdout",
     "output_type": "stream",
     "text": [
      "150\n"
     ]
    }
   ],
   "source": [
    "obj2=Summation(10,20,30,40,50)\n",
    "obj2.display()"
   ]
  },
  {
   "cell_type": "code",
   "execution_count": null,
   "id": "62efa2a8",
   "metadata": {},
   "outputs": [],
   "source": []
  }
 ],
 "metadata": {
  "kernelspec": {
   "display_name": "Python 3 (ipykernel)",
   "language": "python",
   "name": "python3"
  },
  "language_info": {
   "codemirror_mode": {
    "name": "ipython",
    "version": 3
   },
   "file_extension": ".py",
   "mimetype": "text/x-python",
   "name": "python",
   "nbconvert_exporter": "python",
   "pygments_lexer": "ipython3",
   "version": "3.9.13"
  }
 },
 "nbformat": 4,
 "nbformat_minor": 5
}
