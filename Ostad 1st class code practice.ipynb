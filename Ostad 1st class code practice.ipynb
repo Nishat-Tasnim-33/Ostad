{
 "cells": [
  {
   "cell_type": "markdown",
   "id": "e0cd717e",
   "metadata": {},
   "source": [
    "# Ostad\n"
   ]
  },
  {
   "cell_type": "code",
   "execution_count": 3,
   "id": "f083b8fa",
   "metadata": {},
   "outputs": [
    {
     "data": {
      "text/plain": [
       "('nishat tasnim', str)"
      ]
     },
     "execution_count": 3,
     "metadata": {},
     "output_type": "execute_result"
    }
   ],
   "source": [
    "name= 'nishat tasnim'\n",
    "name,type(name)"
   ]
  },
  {
   "cell_type": "code",
   "execution_count": 4,
   "id": "971fdfe9",
   "metadata": {},
   "outputs": [
    {
     "data": {
      "text/plain": [
       "2"
      ]
     },
     "execution_count": 4,
     "metadata": {},
     "output_type": "execute_result"
    }
   ],
   "source": [
    "number=2\n",
    "number"
   ]
  },
  {
   "cell_type": "code",
   "execution_count": 6,
   "id": "09645b03",
   "metadata": {},
   "outputs": [
    {
     "data": {
      "text/plain": [
       "(2.8, float)"
      ]
     },
     "execution_count": 6,
     "metadata": {},
     "output_type": "execute_result"
    }
   ],
   "source": [
    "number=2.8\n",
    "number, type(number)"
   ]
  },
  {
   "cell_type": "code",
   "execution_count": 7,
   "id": "a524fb60",
   "metadata": {},
   "outputs": [
    {
     "data": {
      "text/plain": [
       "'nish?t t?snim'"
      ]
     },
     "execution_count": 7,
     "metadata": {},
     "output_type": "execute_result"
    }
   ],
   "source": [
    "name=name.replace('a','?')\n",
    "name"
   ]
  },
  {
   "cell_type": "code",
   "execution_count": null,
   "id": "a5a1148b",
   "metadata": {},
   "outputs": [],
   "source": []
  }
 ],
 "metadata": {
  "kernelspec": {
   "display_name": "Python 3 (ipykernel)",
   "language": "python",
   "name": "python3"
  },
  "language_info": {
   "codemirror_mode": {
    "name": "ipython",
    "version": 3
   },
   "file_extension": ".py",
   "mimetype": "text/x-python",
   "name": "python",
   "nbconvert_exporter": "python",
   "pygments_lexer": "ipython3",
   "version": "3.9.13"
  }
 },
 "nbformat": 4,
 "nbformat_minor": 5
}
